{
 "cells": [
  {
   "cell_type": "code",
   "execution_count": 1,
   "id": "881716e0",
   "metadata": {},
   "outputs": [],
   "source": [
    "import numpy as np\n",
    "import os, re, csv, tkinter, shutil\n",
    "import pandas as pd\n",
    "from itertools import compress\n",
    "from InROI import InROI\n",
    "from tkinter import filedialog\n",
    "from openpyxl import load_workbook\n",
    "import xlsxwriter\n",
    "import glob"
   ]
  },
  {
   "cell_type": "code",
   "execution_count": 5,
   "id": "b720b4af",
   "metadata": {},
   "outputs": [
    {
     "name": "stdout",
     "output_type": "stream",
     "text": [
      "Input folder name which have STIMULUS in left ROI:stimL\n",
      "Input folder name which have CONTROL in left ROI:controlL\n",
      "if doing stimulus merging, input 1, control merging input 00\n"
     ]
    }
   ],
   "source": [
    "stim_folder = input('Input folder name which have STIMULUS in left ROI:')\n",
    "control_folder = input('Input folder name which have CONTROL in left ROI:')\n",
    "flag = input('if doing stimulus merging, input 1, control merging input 0:')"
   ]
  },
  {
   "cell_type": "code",
   "execution_count": 6,
   "id": "305c6b58",
   "metadata": {},
   "outputs": [
    {
     "name": "stdout",
     "output_type": "stream",
     "text": [
      "stimulus files:\n",
      " ['C:\\\\Users\\\\ASMLabUser1\\\\Desktop\\\\SAZA_windows/stimL\\\\Stimulus left, control right_ROI_std.xlsx']\n",
      "control files:\n",
      " ['C:\\\\Users\\\\ASMLabUser1\\\\Desktop\\\\SAZA_windows/controlL\\\\Stimulus right, control left_ROI_std.xlsx']\n"
     ]
    }
   ],
   "source": [
    "stimpath = os.getcwd()+'/'+ stim_folder\n",
    "conpath = os.getcwd()+'/'+ control_folder\n",
    "# 模糊搜索的文件名，例如 \"*.txt\" 或 \"file_*.jpg\"\n",
    "file_pattern = \"*ROI*\"\n",
    "# *ROI* files path saved in list↓\n",
    "stimfiles = glob.glob(stimpath + \"/\" + file_pattern)\n",
    "confiles = glob.glob(conpath+'/'+file_pattern)\n",
    "# 打印匹配的文件列表\n",
    "print('stimulus files:\\n',stimfiles)\n",
    "print('control files:\\n',confiles)"
   ]
  },
  {
   "cell_type": "code",
   "execution_count": 11,
   "id": "870d63f7",
   "metadata": {},
   "outputs": [
    {
     "name": "stdout",
     "output_type": "stream",
     "text": [
      "data merging for C:\\Users\\ASMLabUser1\\Desktop\\SAZA_windows/stimL\\Stimulus left, control right_ROI_std.xlsx\n",
      "Stimulus left, control right_ROI_std.xlsx\n",
      "doing control group merging---\n",
      "doing control group merging---\n",
      "doing control group merging---\n",
      "doing control group merging---\n",
      "MERGING DONE!!!\n"
     ]
    }
   ],
   "source": [
    "merge_sheet_name_list = []\n",
    "dataframes_list = []\n",
    "for i in range(len(stimfiles)):\n",
    "    print('data merging for %s'%stimfiles[i])\n",
    "    merge_sheet_name_list = []\n",
    "    dataframes_list = []\n",
    "    # put sheet name into list\n",
    "    stimsheet = pd.read_excel(stimfiles[i],sheet_name=None)\n",
    "    stimsheetnames = list(stimsheet.keys())\n",
    "    consheet = pd.read_excel(confiles[i],sheet_name=None)\n",
    "    consheetnames = list(consheet.keys())\n",
    "    merge_file_name = stimfiles[i].split('\\\\')[-1]\n",
    "    print(merge_file_name)\n",
    "    #print(stimsheetnames)\n",
    "    for j in range(int(len(stimsheetnames)/2)):\n",
    "        pairmerge = pd.DataFrame()\n",
    "        \n",
    "        if flag == '1':\n",
    "            stim_sheet_value = pd.read_excel(stimfiles[i],sheet_name=stimsheetnames[j])\n",
    "            con_sheet_value = pd.read_excel(confiles[i],sheet_name=consheetnames[int(len(stimsheetnames)/2+j)])\n",
    "            pairmerge = pd.concat([stim_sheet_value,con_sheet_value],axis = 0)\n",
    "            \n",
    "        elif flag == '0':\n",
    "            print('doing control group merging---')\n",
    "            stim_sheet_value = pd.read_excel(stimfiles[i],sheet_name=stimsheetnames[int(len(stimsheetnames)/2+j)])\n",
    "            con_sheet_value = pd.read_excel(confiles[i],sheet_name=consheetnames[j])\n",
    "            pairmerge = pd.concat([stim_sheet_value,con_sheet_value],axis = 0)\n",
    "        \n",
    "        merge_sheet_name = stimsheetnames[j].split('_')[0]\n",
    "        merge_sheet_name_list.append(str(merge_sheet_name))\n",
    "        dataframes_list.append(pairmerge)\n",
    "    #print(len(merge_sheet_name_list))\n",
    "    #print(len(dataframes_list))\n",
    "    with pd.ExcelWriter(os.getcwd() + '/Merging.xlsx', engine = 'xlsxwriter') as writer:\n",
    "        for k in range(len(dataframes_list)):\n",
    "            dataframes_list[k].to_excel(writer ,sheet_name = merge_sheet_name_list[k] ,index = False ,header = True)\n",
    "            \n",
    "print('MERGING DONE!!!')        "
   ]
  },
  {
   "cell_type": "code",
   "execution_count": 8,
   "id": "e6da5b27",
   "metadata": {},
   "outputs": [
    {
     "name": "stdout",
     "output_type": "stream",
     "text": [
      "doing control group merging\n"
     ]
    }
   ],
   "source": [
    "if flag == '0':\n",
    "    print('doing control group merging')\n",
    "    "
   ]
  },
  {
   "cell_type": "code",
   "execution_count": null,
   "id": "1b8f013c",
   "metadata": {},
   "outputs": [],
   "source": []
  },
  {
   "cell_type": "code",
   "execution_count": null,
   "id": "a6e45a1f",
   "metadata": {},
   "outputs": [],
   "source": []
  }
 ],
 "metadata": {
  "kernelspec": {
   "display_name": "Python 3 (ipykernel)",
   "language": "python",
   "name": "python3"
  },
  "language_info": {
   "codemirror_mode": {
    "name": "ipython",
    "version": 3
   },
   "file_extension": ".py",
   "mimetype": "text/x-python",
   "name": "python",
   "nbconvert_exporter": "python",
   "pygments_lexer": "ipython3",
   "version": "3.8.17"
  }
 },
 "nbformat": 4,
 "nbformat_minor": 5
}
